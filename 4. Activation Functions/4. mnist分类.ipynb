{
 "cells": [
  {
   "cell_type": "code",
   "execution_count": 1,
   "metadata": {},
   "outputs": [],
   "source": [
    "%matplotlib inline\n",
    "\n",
    "import numpy as np\n",
    "from PIL import Image\n",
    "from matplotlib import pyplot as plt\n",
    "\n",
    "import tensorflow as tf\n",
    "from tensorflow.examples.tutorials.mnist import input_data"
   ]
  },
  {
   "cell_type": "code",
   "execution_count": 2,
   "metadata": {},
   "outputs": [],
   "source": [
    "tf.nn.conv2d?"
   ]
  },
  {
   "cell_type": "code",
   "execution_count": 4,
   "metadata": {},
   "outputs": [
    {
     "name": "stdout",
     "output_type": "stream",
     "text": [
      "Extracting MNIST_data\\train-images-idx3-ubyte.gz\n",
      "Extracting MNIST_data\\train-labels-idx1-ubyte.gz\n",
      "Extracting MNIST_data\\t10k-images-idx3-ubyte.gz\n",
      "Extracting MNIST_data\\t10k-labels-idx1-ubyte.gz\n"
     ]
    }
   ],
   "source": [
    "# 下载MNIST数据集并生成DataSet对象\n",
    "# 使用OneHot编码处理标记\n",
    "mnist = input_data.read_data_sets(\"MNIST_data\", one_hot=True)"
   ]
  },
  {
   "cell_type": "code",
   "execution_count": 6,
   "metadata": {},
   "outputs": [],
   "source": [
    "tf.nn.pool?"
   ]
  },
  {
   "cell_type": "code",
   "execution_count": 5,
   "metadata": {},
   "outputs": [
    {
     "data": {
      "text/plain": [
       "(55000, 784)"
      ]
     },
     "execution_count": 5,
     "metadata": {},
     "output_type": "execute_result"
    }
   ],
   "source": [
    "# 训练集图片矩阵，代表55000张图片，每张图片为一个向量，其长度为784\n",
    "mnist.train.images.shape"
   ]
  },
  {
   "cell_type": "code",
   "execution_count": 6,
   "metadata": {},
   "outputs": [
    {
     "data": {
      "text/plain": [
       "(55000, 10)"
      ]
     },
     "execution_count": 6,
     "metadata": {},
     "output_type": "execute_result"
    }
   ],
   "source": [
    "# 训练集标记矩阵，代表55000张图片的标记，每张图片为一个10维的独热编码向量\n",
    "mnist.train.labels.shape"
   ]
  },
  {
   "cell_type": "code",
   "execution_count": 7,
   "metadata": {},
   "outputs": [
    {
     "data": {
      "text/plain": [
       "(10000, 784)"
      ]
     },
     "execution_count": 7,
     "metadata": {},
     "output_type": "execute_result"
    }
   ],
   "source": [
    "mnist.test.images.shape"
   ]
  },
  {
   "cell_type": "code",
   "execution_count": 8,
   "metadata": {},
   "outputs": [
    {
     "data": {
      "text/plain": [
       "(10000, 10)"
      ]
     },
     "execution_count": 8,
     "metadata": {},
     "output_type": "execute_result"
    }
   ],
   "source": [
    "mnist.test.labels.shape"
   ]
  },
  {
   "cell_type": "code",
   "execution_count": 9,
   "metadata": {},
   "outputs": [
    {
     "data": {
      "text/plain": [
       "<matplotlib.image.AxesImage at 0x20220cb5b70>"
      ]
     },
     "execution_count": 9,
     "metadata": {},
     "output_type": "execute_result"
    },
    {
     "data": {
      "image/png": "[encoded data removed]",
      "text/plain": [
       "<Figure size 432x288 with 1 Axes>"
      ]
     },
     "metadata": {
      "needs_background": "light"
     },
     "output_type": "display_data"
    }
   ],
   "source": [
    "# 可视化训练集中的图片\n",
    "plt.imshow(Image.fromarray(mnist.train.images[0].reshape(28, 28)))"
   ]
  },
  {
   "cell_type": "code",
   "execution_count": 10,
   "metadata": {},
   "outputs": [
    {
     "data": {
      "text/plain": [
       "array([0., 0., 0., 0., 0., 0., 0., 1., 0., 0.])"
      ]
     },
     "execution_count": 10,
     "metadata": {},
     "output_type": "execute_result"
    }
   ],
   "source": [
    "mnist.train.labels[0]"
   ]
  },
  {
   "cell_type": "code",
   "execution_count": 11,
   "metadata": {},
   "outputs": [
    {
     "name": "stdout",
     "output_type": "stream",
     "text": [
      "WARNING:tensorflow:From D:\\Anaconda3\\envs\\pydp\\lib\\site-packages\\tensorflow\\python\\framework\\op_def_library.py:263: colocate_with (from tensorflow.python.framework.ops) is deprecated and will be removed in a future version.\n",
      "Instructions for updating:\n",
      "Colocations handled automatically by placer.\n",
      "WARNING:tensorflow:From D:\\Anaconda3\\envs\\pydp\\lib\\site-packages\\tensorflow\\python\\ops\\math_ops.py:3066: to_int32 (from tensorflow.python.ops.math_ops) is deprecated and will be removed in a future version.\n",
      "Instructions for updating:\n",
      "Use tf.cast instead.\n",
      "step     0, loss 13.7659, acc 0.1135\n",
      "step   500, loss 11.8558, acc 0.3320\n",
      "step  1000, loss 6.3970, acc 0.4407\n",
      "step  1500, loss 7.0626, acc 0.4876\n",
      "step  2000, loss 9.3546, acc 0.5096\n",
      "step  2500, loss 7.4074, acc 0.5275\n",
      "step  3000, loss 6.5146, acc 0.5370\n",
      "step  3500, loss 7.5560, acc 0.5429\n",
      "step  4000, loss 7.0516, acc 0.5508\n",
      "step  4500, loss 6.7008, acc 0.5629\n",
      "step  5000, loss 5.0369, acc 0.5763\n",
      "step  5500, loss 6.9568, acc 0.5952\n",
      "step  6000, loss 4.5335, acc 0.6130\n",
      "step  6500, loss 2.4429, acc 0.6380\n",
      "step  7000, loss 6.1986, acc 0.6854\n",
      "step  7500, loss 2.5222, acc 0.7048\n",
      "step  8000, loss 4.0955, acc 0.7221\n",
      "step  8500, loss 5.1954, acc 0.7396\n",
      "step  9000, loss 3.5259, acc 0.7586\n",
      "step  9500, loss 2.4457, acc 0.7700\n",
      "step 10000, loss 3.6616, acc 0.7765\n",
      "step 10500, loss 2.0608, acc 0.7823\n",
      "step 11000, loss 3.7274, acc 0.7878\n",
      "step 11500, loss 2.7683, acc 0.7896\n",
      "step 12000, loss 3.2087, acc 0.7908\n",
      "step 12500, loss 4.7642, acc 0.7990\n",
      "step 13000, loss 3.0698, acc 0.7992\n",
      "step 13500, loss 3.0156, acc 0.8034\n",
      "step 14000, loss 2.9974, acc 0.8015\n",
      "step 14500, loss 2.0149, acc 0.8043\n",
      "step 15000, loss 2.7248, acc 0.8056\n",
      "step 15500, loss 2.5392, acc 0.8093\n",
      "step 16000, loss 2.5185, acc 0.8060\n",
      "step 16500, loss 2.0153, acc 0.8105\n",
      "step 17000, loss 4.1997, acc 0.8096\n",
      "step 17500, loss 2.3663, acc 0.8091\n",
      "step 18000, loss 1.5473, acc 0.8127\n",
      "step 18500, loss 3.0221, acc 0.8124\n",
      "step 19000, loss 2.5185, acc 0.8126\n",
      "step 19500, loss 2.3212, acc 0.8135\n"
     ]
    }
   ],
   "source": [
    "with tf.Graph().as_default() as g:\n",
    "    # 输入、标记占位符\n",
    "    inputs = tf.placeholder(shape=[None, 784], dtype=tf.float32)\n",
    "    labels = tf.placeholder(shape=[None, 10], dtype=tf.float32)\n",
    "    \n",
    "    \n",
    "    # 创建128个隐藏层神经元参数\n",
    "    hidden_weight = tf.Variable(tf.random_normal([784, 128]), name='hidden_weight')\n",
    "    hidden_bias = tf.Variable(tf.zeros([128, ]), name='hidden_bias')\n",
    "    # 隐藏层前向传播\n",
    "    hidden_output = tf.nn.relu(tf.matmul(inputs, hidden_weight) + hidden_bias)\n",
    "    \n",
    "    \n",
    "    # 创建输出层10个神经元参数\n",
    "    output_weight = tf.Variable(tf.random_normal([128, 10], name='output_weight'))\n",
    "    output_bias = tf.Variable(tf.zeros([10, ]), name='output_bias')\n",
    "    # 输出层前向传播\n",
    "    logits = tf.matmul(hidden_output, output_weight) + output_bias\n",
    "    output = tf.nn.softmax(logits)\n",
    "    \n",
    "    \n",
    "    # 代价函数\n",
    "    loss = tf.reduce_mean(-1 * tf.reduce_sum(\n",
    "        labels * tf.log(output + 1e-7),\n",
    "        axis=1))\n",
    "    \n",
    "    \n",
    "    # 正确率\n",
    "    acc = tf.reduce_mean(\n",
    "        tf.cast(tf.equal(tf.argmax(labels, axis=1), tf.argmax(output, axis=1)),\n",
    "                tf.float32))\n",
    "\n",
    "\n",
    "with tf.Session(graph=g) as sess:\n",
    "    # 定义梯度下降法优化器\n",
    "    optim = tf.train.GradientDescentOptimizer(learning_rate=0.01)\n",
    "    train_op = optim.minimize(loss)\n",
    "    sess.run(tf.global_variables_initializer())\n",
    "    \n",
    "    # 训练模型\n",
    "    for step in range(20000):\n",
    "        batch_images, batch_labels = mnist.train.next_batch(32)\n",
    "        res_loss, _ = sess.run([loss, train_op], feed_dict={\n",
    "            inputs: batch_images,\n",
    "            labels: batch_labels\n",
    "        })\n",
    "        \n",
    "        # 输出代价并验证模型\n",
    "        if step % 500 == 0:\n",
    "            accs = []\n",
    "            for test_step in range(10000 // 32):\n",
    "                batch_images, batch_labels = mnist.test.next_batch(32)\n",
    "                res_acc = sess.run(acc, feed_dict={\n",
    "                    inputs: batch_images,\n",
    "                    labels: batch_labels\n",
    "                })\n",
    "                accs.append(res_acc)\n",
    "            accs = np.mean(accs)\n",
    "            print('step %5d, loss %2.4f, acc %.4f' % (step, res_loss, accs))"
   ]
  },
  {
   "cell_type": "markdown",
   "metadata": {},
   "source": [
    "## 作业\n",
    "\n",
    "1. 浮现上述代码。\n",
    "2. 计算模型参数。\n",
    "3. 使用不同大小的批次进行实验，观察模型收敛速度与收敛平稳性。\n",
    "4. 使用不同大小的学习率进行实验，观察模型收敛速度与收敛平稳性。\n",
    "5. 使用不同的激活函数进行实验，观察模型收敛速度与收敛平性能。\n",
    "6. 尝试使用不同的参数初始化方法（如使用不同的正态分布、均匀分布、固定值等方法），观察模型收敛速度。\n",
    "7. 思考如何改进模型以使得模型性能增强。\n",
    "8. 思考如何给模型添加新的隐藏层并进行实验。\n",
    "\n",
    "*说明：需对上述问题进行代码实现与结论总结*"
   ]
  },
  {
   "cell_type": "markdown",
   "metadata": {},
   "source": [
    "2. 其他条件保持不变，分别将原来批次修改成64和16，发现64的正确率相比32的有所下降，而16的相比32有所上升；当批次大小变大时，模型的收敛速度会加快，但是训练误差不稳步下降；当批次大小变小时，发现模型收敛速度变慢，当误差下降的相对更稳"
   ]
  },
  {
   "cell_type": "code",
   "execution_count": 13,
   "metadata": {},
   "outputs": [
    {
     "name": "stdout",
     "output_type": "stream",
     "text": [
      "step     0, loss 14.3527, acc 0.0889\n",
      "step   500, loss 12.1756, acc 0.2902\n",
      "step  1000, loss 7.7367, acc 0.4304\n",
      "step  1500, loss 7.3379, acc 0.4987\n",
      "step  2000, loss 5.8388, acc 0.5317\n",
      "step  2500, loss 6.1692, acc 0.5593\n",
      "step  3000, loss 7.8774, acc 0.5933\n",
      "step  3500, loss 6.4740, acc 0.6167\n",
      "step  4000, loss 5.0948, acc 0.6406\n",
      "step  4500, loss 4.5671, acc 0.6491\n",
      "step  5000, loss 3.7844, acc 0.6597\n",
      "step  5500, loss 4.6567, acc 0.6605\n",
      "step  6000, loss 4.9594, acc 0.6669\n",
      "step  6500, loss 5.0375, acc 0.6783\n",
      "step  7000, loss 4.8272, acc 0.6766\n",
      "step  7500, loss 4.2814, acc 0.6795\n",
      "step  8000, loss 5.4769, acc 0.6819\n",
      "step  8500, loss 4.5784, acc 0.6870\n",
      "step  9000, loss 5.7302, acc 0.6891\n",
      "step  9500, loss 5.7463, acc 0.6913\n",
      "step 10000, loss 5.6437, acc 0.6898\n",
      "step 10500, loss 4.2814, acc 0.6969\n",
      "step 11000, loss 5.0225, acc 0.6989\n",
      "step 11500, loss 4.1043, acc 0.6954\n",
      "step 12000, loss 4.3970, acc 0.6963\n",
      "step 12500, loss 3.6254, acc 0.7057\n",
      "step 13000, loss 5.0411, acc 0.7011\n",
      "step 13500, loss 3.4403, acc 0.7007\n",
      "step 14000, loss 5.3405, acc 0.7055\n",
      "step 14500, loss 6.4212, acc 0.7044\n",
      "step 15000, loss 4.7552, acc 0.7072\n",
      "step 15500, loss 4.8493, acc 0.7088\n",
      "step 16000, loss 2.7816, acc 0.7052\n",
      "step 16500, loss 5.5772, acc 0.7096\n",
      "step 17000, loss 3.5215, acc 0.7065\n",
      "step 17500, loss 3.4235, acc 0.7149\n",
      "step 18000, loss 3.7854, acc 0.7110\n",
      "step 18500, loss 3.5134, acc 0.7122\n",
      "step 19000, loss 3.6272, acc 0.7075\n",
      "step 19500, loss 3.6244, acc 0.7088\n"
     ]
    }
   ],
   "source": [
    "with tf.Graph().as_default() as g:\n",
    "    # 输入、标记占位符\n",
    "    inputs = tf.placeholder(shape=[None, 784], dtype=tf.float32)\n",
    "    labels = tf.placeholder(shape=[None, 10], dtype=tf.float32)\n",
    "    \n",
    "    \n",
    "    # 创建128个隐藏层神经元参数\n",
    "    hidden_weight = tf.Variable(tf.random_normal([784, 128]), name='hidden_weight')\n",
    "    hidden_bias = tf.Variable(tf.zeros([128, ]), name='hidden_bias')\n",
    "    # 隐藏层前向传播\n",
    "    hidden_output = tf.nn.relu(tf.matmul(inputs, hidden_weight) + hidden_bias)\n",
    "    \n",
    "    \n",
    "    # 创建输出层10个神经元参数\n",
    "    output_weight = tf.Variable(tf.random_normal([128, 10], name='output_weight'))\n",
    "    output_bias = tf.Variable(tf.zeros([10, ]), name='output_bias')\n",
    "    # 输出层前向传播\n",
    "    logits = tf.matmul(hidden_output, output_weight) + output_bias\n",
    "    output = tf.nn.softmax(logits)\n",
    "    \n",
    "    \n",
    "    # 代价函数\n",
    "    loss = tf.reduce_mean(-1 * tf.reduce_sum(\n",
    "        labels * tf.log(output + 1e-7),\n",
    "        axis=1))\n",
    "    \n",
    "    \n",
    "    # 正确率\n",
    "    acc = tf.reduce_mean(\n",
    "        tf.cast(tf.equal(tf.argmax(labels, axis=1), tf.argmax(output, axis=1)),\n",
    "                tf.float32))\n",
    "\n",
    "\n",
    "with tf.Session(graph=g) as sess:\n",
    "    # 定义梯度下降法优化器\n",
    "    optim = tf.train.GradientDescentOptimizer(learning_rate=0.01)\n",
    "    train_op = optim.minimize(loss)\n",
    "    sess.run(tf.global_variables_initializer())\n",
    "    \n",
    "    # 训练模型\n",
    "    for step in range(20000):\n",
    "        batch_images, batch_labels = mnist.train.next_batch(64)\n",
    "        res_loss, _ = sess.run([loss, train_op], feed_dict={\n",
    "            inputs: batch_images,\n",
    "            labels: batch_labels\n",
    "        })\n",
    "        \n",
    "        # 输出代价并验证模型\n",
    "        if step % 500 == 0:\n",
    "            accs = []\n",
    "            for test_step in range(10000 // 32):\n",
    "                batch_images, batch_labels = mnist.test.next_batch(32)\n",
    "                res_acc = sess.run(acc, feed_dict={\n",
    "                    inputs: batch_images,\n",
    "                    labels: batch_labels\n",
    "                })\n",
    "                accs.append(res_acc)\n",
    "            accs = np.mean(accs)\n",
    "            print('step %5d, loss %2.4f, acc %.4f' % (step, res_loss, accs))"
   ]
  },
  {
   "cell_type": "code",
   "execution_count": 14,
   "metadata": {},
   "outputs": [
    {
     "name": "stdout",
     "output_type": "stream",
     "text": [
      "step     0, loss 13.7379, acc 0.0839\n",
      "step   500, loss 9.2593, acc 0.3700\n",
      "step  1000, loss 7.0164, acc 0.4986\n",
      "step  1500, loss 6.9927, acc 0.5773\n",
      "step  2000, loss 5.6142, acc 0.6292\n",
      "step  2500, loss 6.0180, acc 0.6540\n",
      "step  3000, loss 4.5560, acc 0.6925\n",
      "step  3500, loss 4.1323, acc 0.7200\n",
      "step  4000, loss 2.8417, acc 0.7286\n",
      "step  4500, loss 3.5667, acc 0.7506\n",
      "step  5000, loss 3.3225, acc 0.7530\n",
      "step  5500, loss 3.6103, acc 0.7674\n",
      "step  6000, loss 4.1849, acc 0.7712\n",
      "step  6500, loss 4.0601, acc 0.7744\n",
      "step  7000, loss 3.1643, acc 0.7837\n",
      "step  7500, loss 3.3448, acc 0.7778\n",
      "step  8000, loss 2.4979, acc 0.7891\n",
      "step  8500, loss 1.5283, acc 0.8273\n",
      "step  9000, loss 1.8288, acc 0.8496\n",
      "step  9500, loss 1.8989, acc 0.8578\n",
      "step 10000, loss 2.1294, acc 0.8718\n",
      "step 10500, loss 0.5762, acc 0.8662\n",
      "step 11000, loss 1.6304, acc 0.8770\n",
      "step 11500, loss 1.0390, acc 0.8826\n",
      "step 12000, loss 1.3489, acc 0.8830\n",
      "step 12500, loss 1.3941, acc 0.8788\n",
      "step 13000, loss 1.5038, acc 0.8882\n",
      "step 13500, loss 1.4045, acc 0.8856\n",
      "step 14000, loss 1.3382, acc 0.8954\n",
      "step 14500, loss 1.3471, acc 0.8882\n",
      "step 15000, loss 1.4160, acc 0.8954\n",
      "step 15500, loss 1.4041, acc 0.8952\n",
      "step 16000, loss 1.2870, acc 0.8902\n",
      "step 16500, loss 1.2334, acc 0.9006\n",
      "step 17000, loss 1.2125, acc 0.8970\n",
      "step 17500, loss 1.7103, acc 0.9042\n",
      "step 18000, loss 1.2379, acc 0.8932\n",
      "step 18500, loss 1.4267, acc 0.9071\n",
      "step 19000, loss 1.4506, acc 0.8990\n",
      "step 19500, loss 1.2751, acc 0.9058\n"
     ]
    }
   ],
   "source": [
    "with tf.Graph().as_default() as g:\n",
    "    # 输入、标记占位符\n",
    "    inputs = tf.placeholder(shape=[None, 784], dtype=tf.float32)\n",
    "    labels = tf.placeholder(shape=[None, 10], dtype=tf.float32)\n",
    "    \n",
    "    \n",
    "    # 创建128个隐藏层神经元参数\n",
    "    hidden_weight = tf.Variable(tf.random_normal([784, 128]), name='hidden_weight')\n",
    "    hidden_bias = tf.Variable(tf.zeros([128, ]), name='hidden_bias')\n",
    "    # 隐藏层前向传播\n",
    "    hidden_output = tf.nn.relu(tf.matmul(inputs, hidden_weight) + hidden_bias)\n",
    "    \n",
    "    \n",
    "    # 创建输出层10个神经元参数\n",
    "    output_weight = tf.Variable(tf.random_normal([128, 10], name='output_weight'))\n",
    "    output_bias = tf.Variable(tf.zeros([10, ]), name='output_bias')\n",
    "    # 输出层前向传播\n",
    "    logits = tf.matmul(hidden_output, output_weight) + output_bias\n",
    "    output = tf.nn.softmax(logits)\n",
    "    \n",
    "    \n",
    "    # 代价函数\n",
    "    loss = tf.reduce_mean(-1 * tf.reduce_sum(\n",
    "        labels * tf.log(output + 1e-7),\n",
    "        axis=1))\n",
    "    \n",
    "    \n",
    "    # 正确率\n",
    "    acc = tf.reduce_mean(\n",
    "        tf.cast(tf.equal(tf.argmax(labels, axis=1), tf.argmax(output, axis=1)),\n",
    "                tf.float32))\n",
    "\n",
    "\n",
    "with tf.Session(graph=g) as sess:\n",
    "    # 定义梯度下降法优化器\n",
    "    optim = tf.train.GradientDescentOptimizer(learning_rate=0.01)\n",
    "    train_op = optim.minimize(loss)\n",
    "    sess.run(tf.global_variables_initializer())\n",
    "    \n",
    "    # 训练模型\n",
    "    for step in range(20000):\n",
    "        batch_images, batch_labels = mnist.train.next_batch(128)\n",
    "        res_loss, _ = sess.run([loss, train_op], feed_dict={\n",
    "            inputs: batch_images,\n",
    "            labels: batch_labels\n",
    "        })\n",
    "        \n",
    "        # 输出代价并验证模型\n",
    "        if step % 500 == 0:\n",
    "            accs = []\n",
    "            for test_step in range(10000 // 32):\n",
    "                batch_images, batch_labels = mnist.test.next_batch(16)\n",
    "                res_acc = sess.run(acc, feed_dict={\n",
    "                    inputs: batch_images,\n",
    "                    labels: batch_labels\n",
    "                })\n",
    "                accs.append(res_acc)\n",
    "            accs = np.mean(accs)\n",
    "            print('step %5d, loss %2.4f, acc %.4f' % (step, res_loss, accs))"
   ]
  },
  {
   "cell_type": "markdown",
   "metadata": {},
   "source": [
    "3. 使用不同大小的学习率进行实验，观察模型收敛速度与收敛平稳性"
   ]
  },
  {
   "cell_type": "code",
   "execution_count": 16,
   "metadata": {},
   "outputs": [
    {
     "name": "stdout",
     "output_type": "stream",
     "text": [
      "step     0, loss 13.2972, acc 0.0999\n",
      "step   500, loss 4.8398, acc 0.6902\n",
      "step  1000, loss 3.9271, acc 0.7210\n",
      "step  1500, loss 3.9644, acc 0.7413\n",
      "step  2000, loss 4.0281, acc 0.7435\n",
      "step  2500, loss 2.9047, acc 0.7485\n",
      "step  3000, loss 3.1895, acc 0.7493\n",
      "step  3500, loss 2.5322, acc 0.7545\n",
      "step  4000, loss 3.8324, acc 0.7547\n",
      "step  4500, loss 4.5552, acc 0.7643\n",
      "step  5000, loss 2.2440, acc 0.8196\n",
      "step  5500, loss 2.9556, acc 0.8223\n",
      "step  6000, loss 2.7184, acc 0.8348\n",
      "step  6500, loss 2.4556, acc 0.8332\n",
      "step  7000, loss 2.8535, acc 0.8408\n",
      "step  7500, loss 2.0822, acc 0.8346\n",
      "step  8000, loss 2.8166, acc 0.8361\n",
      "step  8500, loss 2.0322, acc 0.8450\n",
      "step  9000, loss 2.1688, acc 0.8415\n",
      "step  9500, loss 1.5450, acc 0.8439\n",
      "step 10000, loss 1.6838, acc 0.8469\n",
      "step 10500, loss 2.1554, acc 0.8468\n",
      "step 11000, loss 2.1638, acc 0.8481\n",
      "step 11500, loss 2.2678, acc 0.8491\n",
      "step 12000, loss 2.6627, acc 0.8452\n",
      "step 12500, loss 1.7637, acc 0.8490\n",
      "step 13000, loss 2.5695, acc 0.8513\n",
      "step 13500, loss 1.6596, acc 0.8495\n",
      "step 14000, loss 2.3927, acc 0.8473\n",
      "step 14500, loss 1.3906, acc 0.8519\n",
      "step 15000, loss 2.5234, acc 0.8535\n",
      "step 15500, loss 1.8903, acc 0.8498\n",
      "step 16000, loss 1.6534, acc 0.8499\n",
      "step 16500, loss 1.8718, acc 0.8536\n",
      "step 17000, loss 1.7671, acc 0.8485\n",
      "step 17500, loss 2.3928, acc 0.8569\n",
      "step 18000, loss 2.6445, acc 0.8474\n",
      "step 18500, loss 1.7659, acc 0.8509\n",
      "step 19000, loss 1.6391, acc 0.8499\n",
      "step 19500, loss 2.7709, acc 0.8583\n"
     ]
    }
   ],
   "source": [
    "with tf.Graph().as_default() as g:\n",
    "    # 输入、标记占位符\n",
    "    inputs = tf.placeholder(shape=[None, 784], dtype=tf.float32)\n",
    "    labels = tf.placeholder(shape=[None, 10], dtype=tf.float32)\n",
    "    \n",
    "    \n",
    "    # 创建128个隐藏层神经元参数\n",
    "    hidden_weight = tf.Variable(tf.random_normal([784, 128]), name='hidden_weight')\n",
    "    hidden_bias = tf.Variable(tf.zeros([128, ]), name='hidden_bias')\n",
    "    # 隐藏层前向传播\n",
    "    hidden_output = tf.nn.relu(tf.matmul(inputs, hidden_weight) + hidden_bias)\n",
    "    \n",
    "    \n",
    "    # 创建输出层10个神经元参数\n",
    "    output_weight = tf.Variable(tf.random_normal([128, 10], name='output_weight'))\n",
    "    output_bias = tf.Variable(tf.zeros([10, ]), name='output_bias')\n",
    "    # 输出层前向传播\n",
    "    logits = tf.matmul(hidden_output, output_weight) + output_bias\n",
    "    output = tf.nn.softmax(logits)\n",
    "    \n",
    "    \n",
    "    # 代价函数\n",
    "    loss = tf.reduce_mean(-1 * tf.reduce_sum(\n",
    "        labels * tf.log(output + 1e-7),\n",
    "        axis=1))\n",
    "    \n",
    "    \n",
    "    # 正确率\n",
    "    acc = tf.reduce_mean(\n",
    "        tf.cast(tf.equal(tf.argmax(labels, axis=1), tf.argmax(output, axis=1)),\n",
    "                tf.float32))\n",
    "\n",
    "\n",
    "with tf.Session(graph=g) as sess:\n",
    "    # 定义梯度下降法优化器\n",
    "    optim = tf.train.GradientDescentOptimizer(learning_rate=0.1)\n",
    "    train_op = optim.minimize(loss)\n",
    "    sess.run(tf.global_variables_initializer())\n",
    "    \n",
    "    # 训练模型\n",
    "    for step in range(20000):\n",
    "        batch_images, batch_labels = mnist.train.next_batch(128)\n",
    "        res_loss, _ = sess.run([loss, train_op], feed_dict={\n",
    "            inputs: batch_images,\n",
    "            labels: batch_labels\n",
    "        })\n",
    "        \n",
    "        # 输出代价并验证模型\n",
    "        if step % 500 == 0:\n",
    "            accs = []\n",
    "            for test_step in range(10000 // 32):\n",
    "                batch_images, batch_labels = mnist.test.next_batch(32)\n",
    "                res_acc = sess.run(acc, feed_dict={\n",
    "                    inputs: batch_images,\n",
    "                    labels: batch_labels\n",
    "                })\n",
    "                accs.append(res_acc)\n",
    "            accs = np.mean(accs)\n",
    "            print('step %5d, loss %2.4f, acc %.4f' % (step, res_loss, accs))"
   ]
  },
  {
   "cell_type": "code",
   "execution_count": 17,
   "metadata": {},
   "outputs": [
    {
     "name": "stdout",
     "output_type": "stream",
     "text": [
      "step     0, loss 12.2607, acc 0.1536\n",
      "step   500, loss 12.6064, acc 0.1875\n",
      "step  1000, loss 12.5209, acc 0.2043\n",
      "step  1500, loss 12.3345, acc 0.2244\n",
      "step  2000, loss 12.4778, acc 0.2412\n",
      "step  2500, loss 12.2389, acc 0.2470\n",
      "step  3000, loss 12.0452, acc 0.2766\n",
      "step  3500, loss 11.6201, acc 0.2756\n",
      "step  4000, loss 10.0868, acc 0.2973\n",
      "step  4500, loss 10.6252, acc 0.3049\n",
      "step  5000, loss 10.3079, acc 0.3109\n",
      "step  5500, loss 11.1483, acc 0.3277\n",
      "step  6000, loss 10.6887, acc 0.3209\n",
      "step  6500, loss 9.6206, acc 0.3438\n",
      "step  7000, loss 9.7970, acc 0.3506\n",
      "step  7500, loss 10.8906, acc 0.3512\n",
      "step  8000, loss 10.0424, acc 0.3566\n",
      "step  8500, loss 10.1256, acc 0.3678\n",
      "step  9000, loss 9.9283, acc 0.3726\n",
      "step  9500, loss 8.8321, acc 0.3788\n",
      "step 10000, loss 10.5412, acc 0.3862\n",
      "step 10500, loss 9.5811, acc 0.3992\n",
      "step 11000, loss 8.7624, acc 0.3862\n",
      "step 11500, loss 8.6453, acc 0.3964\n",
      "step 12000, loss 9.1062, acc 0.4087\n",
      "step 12500, loss 9.1875, acc 0.4109\n",
      "step 13000, loss 9.5922, acc 0.4179\n",
      "step 13500, loss 8.6243, acc 0.4119\n",
      "step 14000, loss 9.2224, acc 0.4257\n",
      "step 14500, loss 8.7083, acc 0.4317\n",
      "step 15000, loss 9.1059, acc 0.4207\n",
      "step 15500, loss 8.5204, acc 0.4337\n",
      "step 16000, loss 9.4631, acc 0.4341\n",
      "step 16500, loss 9.1723, acc 0.4435\n",
      "step 17000, loss 9.8393, acc 0.4369\n",
      "step 17500, loss 8.5747, acc 0.4397\n",
      "step 18000, loss 10.5306, acc 0.4503\n",
      "step 18500, loss 7.9133, acc 0.4443\n",
      "step 19000, loss 9.1186, acc 0.4501\n",
      "step 19500, loss 8.9198, acc 0.4459\n"
     ]
    }
   ],
   "source": [
    "with tf.Graph().as_default() as g:\n",
    "    # 输入、标记占位符\n",
    "    inputs = tf.placeholder(shape=[None, 784], dtype=tf.float32)\n",
    "    labels = tf.placeholder(shape=[None, 10], dtype=tf.float32)\n",
    "    \n",
    "    \n",
    "    # 创建128个隐藏层神经元参数\n",
    "    hidden_weight = tf.Variable(tf.random_normal([784, 128]), name='hidden_weight')\n",
    "    hidden_bias = tf.Variable(tf.zeros([128, ]), name='hidden_bias')\n",
    "    # 隐藏层前向传播\n",
    "    hidden_output = tf.nn.relu(tf.matmul(inputs, hidden_weight) + hidden_bias)\n",
    "    \n",
    "    \n",
    "    # 创建输出层10个神经元参数\n",
    "    output_weight = tf.Variable(tf.random_normal([128, 10], name='output_weight'))\n",
    "    output_bias = tf.Variable(tf.zeros([10, ]), name='output_bias')\n",
    "    # 输出层前向传播\n",
    "    logits = tf.matmul(hidden_output, output_weight) + output_bias\n",
    "    output = tf.nn.softmax(logits)\n",
    "    \n",
    "    \n",
    "    # 代价函数\n",
    "    loss = tf.reduce_mean(-1 * tf.reduce_sum(\n",
    "        labels * tf.log(output + 1e-7),\n",
    "        axis=1))\n",
    "    \n",
    "    \n",
    "    # 正确率\n",
    "    acc = tf.reduce_mean(\n",
    "        tf.cast(tf.equal(tf.argmax(labels, axis=1), tf.argmax(output, axis=1)),\n",
    "                tf.float32))\n",
    "\n",
    "\n",
    "with tf.Session(graph=g) as sess:\n",
    "    # 定义梯度下降法优化器\n",
    "    optim = tf.train.GradientDescentOptimizer(learning_rate=0.001)\n",
    "    train_op = optim.minimize(loss)\n",
    "    sess.run(tf.global_variables_initializer())\n",
    "    \n",
    "    # 训练模型\n",
    "    for step in range(20000):\n",
    "        batch_images, batch_labels = mnist.train.next_batch(128)\n",
    "        res_loss, _ = sess.run([loss, train_op], feed_dict={\n",
    "            inputs: batch_images,\n",
    "            labels: batch_labels\n",
    "        })\n",
    "        \n",
    "        # 输出代价并验证模型\n",
    "        if step % 500 == 0:\n",
    "            accs = []\n",
    "            for test_step in range(10000 // 32):\n",
    "                batch_images, batch_labels = mnist.test.next_batch(16)\n",
    "                res_acc = sess.run(acc, feed_dict={\n",
    "                    inputs: batch_images,\n",
    "                    labels: batch_labels\n",
    "                })\n",
    "                accs.append(res_acc)\n",
    "            accs = np.mean(accs)\n",
    "            print('step %5d, loss %2.4f, acc %.4f' % (step, res_loss, accs))"
   ]
  },
  {
   "cell_type": "markdown",
   "metadata": {},
   "source": [
    "上面的学习率分别为0.1和0.001，其他条件相同。观察训练结果发现，学习率调高，会使训练速度加快，但不稳；调小学习率，会使训练变慢，模型平稳性更好；"
   ]
  },
  {
   "cell_type": "markdown",
   "metadata": {},
   "source": [
    "4. 使用不同的激活函数进行实验，观察模型收敛速度与收敛性能。\n"
   ]
  },
  {
   "cell_type": "code",
   "execution_count": 23,
   "metadata": {},
   "outputs": [
    {
     "name": "stdout",
     "output_type": "stream",
     "text": [
      "step     0, loss 9.4845, acc 0.1310\n",
      "step   500, loss -4.2885, acc 0.2039\n",
      "step  1000, loss -4.9472, acc 0.2157\n",
      "step  1500, loss -5.1340, acc 0.2246\n",
      "step  2000, loss -5.2431, acc 0.2470\n",
      "step  2500, loss -5.3106, acc 0.2520\n",
      "step  3000, loss -5.4150, acc 0.2648\n",
      "step  3500, loss -5.5696, acc 0.2708\n",
      "step  4000, loss -5.6074, acc 0.2827\n",
      "step  4500, loss -5.7004, acc 0.2951\n",
      "step  5000, loss -5.6994, acc 0.2875\n",
      "step  5500, loss -5.8147, acc 0.3071\n",
      "step  6000, loss -5.8488, acc 0.3037\n",
      "step  6500, loss -5.8320, acc 0.3153\n",
      "step  7000, loss -5.9933, acc 0.3283\n",
      "step  7500, loss -6.0026, acc 0.3257\n",
      "step  8000, loss -6.0594, acc 0.3235\n",
      "step  8500, loss -6.0867, acc 0.3317\n",
      "step  9000, loss -6.1159, acc 0.3538\n",
      "step  9500, loss -6.1771, acc 0.3397\n",
      "step 10000, loss -6.2499, acc 0.3401\n",
      "step 10500, loss -6.2439, acc 0.3540\n",
      "step 11000, loss -6.2326, acc 0.3578\n",
      "step 11500, loss -6.2843, acc 0.3600\n",
      "step 12000, loss -6.2994, acc 0.3572\n",
      "step 12500, loss -6.3838, acc 0.3708\n",
      "step 13000, loss -6.3445, acc 0.3672\n",
      "step 13500, loss -6.4254, acc 0.3674\n",
      "step 14000, loss -6.4128, acc 0.3792\n",
      "step 14500, loss -6.4522, acc 0.3740\n",
      "step 15000, loss -6.5449, acc 0.3826\n",
      "step 15500, loss -6.5599, acc 0.3822\n",
      "step 16000, loss -6.5215, acc 0.3810\n",
      "step 16500, loss -6.6137, acc 0.3792\n",
      "step 17000, loss -6.6599, acc 0.3936\n",
      "step 17500, loss -6.6198, acc 0.3876\n",
      "step 18000, loss -6.6721, acc 0.3934\n",
      "step 18500, loss -6.7227, acc 0.4044\n",
      "step 19000, loss -6.6933, acc 0.4006\n",
      "step 19500, loss -6.7317, acc 0.4000\n"
     ]
    }
   ],
   "source": [
    "with tf.Graph().as_default() as g:\n",
    "    # 输入、标记占位符\n",
    "    inputs = tf.placeholder(shape=[None, 784], dtype=tf.float32)\n",
    "    labels = tf.placeholder(shape=[None, 10], dtype=tf.float32)\n",
    "    \n",
    "    \n",
    "    # 创建128个隐藏层神经元参数\n",
    "    hidden_weight = tf.Variable(tf.random_normal([784, 128]), name='hidden_weight')\n",
    "    hidden_bias = tf.Variable(tf.zeros([128, ]), name='hidden_bias')\n",
    "    # 隐藏层前向传播\n",
    "    hidden_output = tf.nn.relu(tf.matmul(inputs, hidden_weight) + hidden_bias)\n",
    "    \n",
    "    \n",
    "    # 创建输出层10个神经元参数\n",
    "    output_weight = tf.Variable(tf.random_normal([128, 10], name='output_weight'))\n",
    "    output_bias = tf.Variable(tf.zeros([10, ]), name='output_bias')\n",
    "    # 输出层前向传播\n",
    "    logits = tf.matmul(hidden_output, output_weight) + output_bias\n",
    "#     output = tf.nn.softmax(logits)\n",
    "    output = tf.nn.relu(logits)\n",
    "    \n",
    "    \n",
    "    # 代价函数\n",
    "    loss = tf.reduce_mean(-1 * tf.reduce_sum(\n",
    "        labels * tf.log(output + 1e-7),\n",
    "        axis=1))\n",
    "    \n",
    "    \n",
    "    # 正确率\n",
    "    acc = tf.reduce_mean(\n",
    "        tf.cast(tf.equal(tf.argmax(labels, axis=1), tf.argmax(output, axis=1)),\n",
    "                tf.float32))\n",
    "\n",
    "\n",
    "with tf.Session(graph=g) as sess:\n",
    "    # 定义梯度下降法优化器\n",
    "    optim = tf.train.GradientDescentOptimizer(learning_rate=0.01)\n",
    "    train_op = optim.minimize(loss)\n",
    "    sess.run(tf.global_variables_initializer())\n",
    "    \n",
    "    # 训练模型\n",
    "    for step in range(20000):\n",
    "        batch_images, batch_labels = mnist.train.next_batch(64)\n",
    "        res_loss, _ = sess.run([loss, train_op], feed_dict={\n",
    "            inputs: batch_images,\n",
    "            labels: batch_labels\n",
    "        })\n",
    "        \n",
    "        # 输出代价并验证模型\n",
    "        if step % 500 == 0:\n",
    "            accs = []\n",
    "            for test_step in range(10000 // 32):\n",
    "                batch_images, batch_labels = mnist.test.next_batch(16)\n",
    "                res_acc = sess.run(acc, feed_dict={\n",
    "                    inputs: batch_images,\n",
    "                    labels: batch_labels\n",
    "                })\n",
    "                accs.append(res_acc)\n",
    "            accs = np.mean(accs)\n",
    "            print('step %5d, loss %2.4f, acc %.4f' % (step, res_loss, accs))"
   ]
  },
  {
   "cell_type": "markdown",
   "metadata": {},
   "source": [
    "5. 尝试使用不同的参数初始化方法（如使用不同的正态分布、均匀分布、固定值等方法），观察模型收敛速度。\n"
   ]
  },
  {
   "cell_type": "code",
   "execution_count": 24,
   "metadata": {},
   "outputs": [
    {
     "name": "stdout",
     "output_type": "stream",
     "text": [
      "step     0, loss 14.3751, acc 0.0549\n",
      "step   500, loss 14.4842, acc 0.0681\n",
      "step  1000, loss 15.0892, acc 0.0913\n",
      "step  1500, loss 13.6254, acc 0.1168\n",
      "step  2000, loss 13.7814, acc 0.1316\n",
      "step  2500, loss 12.8922, acc 0.1548\n",
      "step  3000, loss 13.9217, acc 0.1711\n",
      "step  3500, loss 13.5558, acc 0.1853\n",
      "step  4000, loss 12.4827, acc 0.1941\n",
      "step  4500, loss 11.9097, acc 0.2157\n",
      "step  5000, loss 11.6202, acc 0.2145\n",
      "step  5500, loss 11.1616, acc 0.2310\n",
      "step  6000, loss 11.7236, acc 0.2438\n",
      "step  6500, loss 12.3821, acc 0.2458\n",
      "step  7000, loss 12.0161, acc 0.2542\n",
      "step  7500, loss 10.7254, acc 0.2722\n",
      "step  8000, loss 11.2353, acc 0.2662\n",
      "step  8500, loss 11.6090, acc 0.2734\n",
      "step  9000, loss 11.7761, acc 0.2762\n",
      "step  9500, loss 11.4290, acc 0.2786\n",
      "step 10000, loss 12.1089, acc 0.2917\n",
      "step 10500, loss 10.9486, acc 0.2953\n",
      "step 11000, loss 12.3234, acc 0.2887\n",
      "step 11500, loss 12.4901, acc 0.2965\n",
      "step 12000, loss 10.1717, acc 0.2913\n",
      "step 12500, loss 11.8163, acc 0.2983\n",
      "step 13000, loss 10.6986, acc 0.3009\n",
      "step 13500, loss 10.8623, acc 0.3021\n",
      "step 14000, loss 11.7755, acc 0.3075\n",
      "step 14500, loss 10.6819, acc 0.3003\n",
      "step 15000, loss 10.5292, acc 0.3153\n",
      "step 15500, loss 10.6824, acc 0.3049\n",
      "step 16000, loss 11.2805, acc 0.3107\n",
      "step 16500, loss 10.7971, acc 0.3159\n",
      "step 17000, loss 10.4360, acc 0.3101\n",
      "step 17500, loss 12.0633, acc 0.3163\n",
      "step 18000, loss 10.1687, acc 0.3103\n",
      "step 18500, loss 11.1726, acc 0.3147\n",
      "step 19000, loss 11.5648, acc 0.3219\n",
      "step 19500, loss 10.7062, acc 0.3115\n"
     ]
    }
   ],
   "source": [
    "with tf.Graph().as_default() as g:\n",
    "    # 输入、标记占位符\n",
    "    inputs = tf.placeholder(shape=[None, 784], dtype=tf.float32)\n",
    "    labels = tf.placeholder(shape=[None, 10], dtype=tf.float32)\n",
    "    \n",
    "    \n",
    "    # 创建128个隐藏层神经元参数\n",
    "    \n",
    "    hidden_weight = tf.Variable(tf.truncated_normal([784, 128]), name='hidden_weight')\n",
    "#     hidden_weight = tf.Variable(tf.random_normal([784, 128]), name='hidden_weight')\n",
    "    hidden_bias = tf.Variable(tf.zeros([128, ]), name='hidden_bias')\n",
    "    # 隐藏层前向传播\n",
    "    hidden_output = tf.nn.relu(tf.matmul(inputs, hidden_weight) + hidden_bias)\n",
    "    \n",
    "    \n",
    "    # 创建输出层10个神经元参数\n",
    "    output_weight = tf.Variable(tf.random_normal([128, 10], name='output_weight'))\n",
    "    output_bias = tf.Variable(tf.zeros([10, ]), name='output_bias')\n",
    "    # 输出层前向传播\n",
    "    logits = tf.matmul(hidden_output, output_weight) + output_bias\n",
    "    output = tf.nn.softmax(logits)\n",
    "    \n",
    "    \n",
    "    # 代价函数\n",
    "    loss = tf.reduce_mean(-1 * tf.reduce_sum(\n",
    "        labels * tf.log(output + 1e-7),\n",
    "        axis=1))\n",
    "    \n",
    "    \n",
    "    # 正确率\n",
    "    acc = tf.reduce_mean(\n",
    "        tf.cast(tf.equal(tf.argmax(labels, axis=1), tf.argmax(output, axis=1)),\n",
    "                tf.float32))\n",
    "\n",
    "\n",
    "with tf.Session(graph=g) as sess:\n",
    "    # 定义梯度下降法优化器\n",
    "    optim = tf.train.GradientDescentOptimizer(learning_rate=0.001)\n",
    "    train_op = optim.minimize(loss)\n",
    "    sess.run(tf.global_variables_initializer())\n",
    "    \n",
    "    # 训练模型\n",
    "    for step in range(20000):\n",
    "        batch_images, batch_labels = mnist.train.next_batch(128)\n",
    "        res_loss, _ = sess.run([loss, train_op], feed_dict={\n",
    "            inputs: batch_images,\n",
    "            labels: batch_labels\n",
    "        })\n",
    "        \n",
    "        # 输出代价并验证模型\n",
    "        if step % 500 == 0:\n",
    "            accs = []\n",
    "            for test_step in range(10000 // 32):\n",
    "                batch_images, batch_labels = mnist.test.next_batch(16)\n",
    "                res_acc = sess.run(acc, feed_dict={\n",
    "                    inputs: batch_images,\n",
    "                    labels: batch_labels\n",
    "                })\n",
    "                accs.append(res_acc)\n",
    "            accs = np.mean(accs)\n",
    "            print('step %5d, loss %2.4f, acc %.4f' % (step, res_loss, accs))"
   ]
  },
  {
   "cell_type": "markdown",
   "metadata": {},
   "source": [
    "6. 思考如何改进模型以使得模型性能增强。\n"
   ]
  },
  {
   "cell_type": "markdown",
   "metadata": {},
   "source": [
    "可以调整模型的学习率、训练批次的大小、激活函数、增加隐藏层、增加训练总的步数等来查看是否会提升模型性能"
   ]
  },
  {
   "cell_type": "markdown",
   "metadata": {},
   "source": [
    "7. 思考如何给模型添加新的隐藏层并进行实验\n"
   ]
  },
  {
   "cell_type": "code",
   "execution_count": 1,
   "metadata": {},
   "outputs": [],
   "source": [
    "%matplotlib inline\n",
    "\n",
    "import tensorflow as tf\n",
    "import numpy as np\n",
    "from PIL import Image\n",
    "from matplotlib import pyplot as plt\n",
    "\n",
    "from tensorflow.examples.tutorials.mnist import input_data\n"
   ]
  },
  {
   "cell_type": "code",
   "execution_count": 3,
   "metadata": {},
   "outputs": [
    {
     "name": "stdout",
     "output_type": "stream",
     "text": [
      "Extracting MNIST_data/train-images-idx3-ubyte.gz\n",
      "Extracting MNIST_data/train-labels-idx1-ubyte.gz\n",
      "Extracting MNIST_data/t10k-images-idx3-ubyte.gz\n",
      "Extracting MNIST_data/t10k-labels-idx1-ubyte.gz\n"
     ]
    }
   ],
   "source": [
    "mnist = input_data.read_data_sets(\"MNIST_data/\", one_hot=True)"
   ]
  },
  {
   "cell_type": "code",
   "execution_count": 10,
   "metadata": {},
   "outputs": [
    {
     "data": {
      "text/plain": [
       "(784,)"
      ]
     },
     "execution_count": 10,
     "metadata": {},
     "output_type": "execute_result"
    }
   ],
   "source": [
    "mnist.validation.images[0].shape"
   ]
  },
  {
   "cell_type": "code",
   "execution_count": 9,
   "metadata": {},
   "outputs": [
    {
     "data": {
      "text/plain": [
       "<matplotlib.image.AxesImage at 0x26037482550>"
      ]
     },
     "execution_count": 9,
     "metadata": {},
     "output_type": "execute_result"
    },
    {
     "data": {
      "image/png": "[encoded data removed]",
      "text/plain": [
       "<Figure size 432x288 with 1 Axes>"
      ]
     },
     "metadata": {
      "needs_background": "light"
     },
     "output_type": "display_data"
    }
   ],
   "source": [
    "plt.imshow(Image.fromarray(mnist.train.images[9].reshape(28, 28)))"
   ]
  },
  {
   "cell_type": "code",
   "execution_count": 11,
   "metadata": {},
   "outputs": [
    {
     "data": {
      "text/plain": [
       "array([0., 0., 0., 0., 0., 0., 0., 0., 1., 0.])"
      ]
     },
     "execution_count": 11,
     "metadata": {},
     "output_type": "execute_result"
    }
   ],
   "source": [
    "mnist.train.labels[9]"
   ]
  },
  {
   "cell_type": "code",
   "execution_count": 17,
   "metadata": {},
   "outputs": [
    {
     "name": "stdout",
     "output_type": "stream",
     "text": [
      "step     0, loss 15.6144, acc 0.0663\n",
      "step   500, loss 13.5996, acc 0.1597\n",
      "step  1000, loss 13.0960, acc 0.1715\n",
      "step  1500, loss 13.0960, acc 0.1920\n",
      "step  2000, loss 12.0886, acc 0.2304\n",
      "step  2500, loss 13.5996, acc 0.2517\n",
      "step  3000, loss 12.5923, acc 0.2633\n",
      "step  3500, loss 11.0812, acc 0.2703\n",
      "step  4000, loss 10.5775, acc 0.2722\n",
      "step  4500, loss 12.0886, acc 0.2746\n",
      "step  5000, loss 10.0738, acc 0.2788\n",
      "step  5500, loss 11.5849, acc 0.2729\n",
      "step  6000, loss 10.5775, acc 0.2856\n",
      "step  6500, loss 12.0886, acc 0.2781\n",
      "step  7000, loss 10.5775, acc 0.2826\n",
      "step  7500, loss 11.5849, acc 0.2817\n",
      "step  8000, loss 12.5923, acc 0.2844\n",
      "step  8500, loss 11.5849, acc 0.2833\n",
      "step  9000, loss 10.5775, acc 0.3847\n",
      "step  9500, loss 7.5554, acc 0.4399\n",
      "step 10000, loss 9.2250, acc 0.4571\n",
      "step 10500, loss 8.1089, acc 0.4779\n",
      "step 11000, loss 6.5480, acc 0.4973\n",
      "step 11500, loss 6.5480, acc 0.5356\n",
      "step 12000, loss 8.0590, acc 0.5495\n",
      "step 12500, loss 6.5480, acc 0.5511\n",
      "step 13000, loss 4.3386, acc 0.5689\n",
      "step 13500, loss 10.5776, acc 0.5575\n",
      "step 14000, loss 7.5554, acc 0.5608\n",
      "step 14500, loss 7.0517, acc 0.5613\n",
      "step 15000, loss 5.5406, acc 0.5565\n",
      "step 15500, loss 6.5480, acc 0.5659\n",
      "step 16000, loss 7.5554, acc 0.5657\n",
      "step 16500, loss 7.0517, acc 0.5686\n",
      "step 17000, loss 7.5554, acc 0.5687\n",
      "step 17500, loss 5.5406, acc 0.5662\n",
      "step 18000, loss 3.5258, acc 0.5676\n",
      "step 18500, loss 6.0443, acc 0.5699\n",
      "step 19000, loss 8.5627, acc 0.5735\n",
      "step 19500, loss 7.0517, acc 0.5916\n",
      "step 20000, loss 9.1437, acc 0.6056\n",
      "step 20500, loss 6.5480, acc 0.6158\n",
      "step 21000, loss 6.1213, acc 0.6345\n",
      "step 21500, loss 7.5554, acc 0.6375\n",
      "step 22000, loss 7.5554, acc 0.6393\n",
      "step 22500, loss 8.0590, acc 0.6511\n",
      "step 23000, loss 9.3586, acc 0.6578\n",
      "step 23500, loss 3.0221, acc 0.6515\n",
      "step 24000, loss 5.0369, acc 0.6654\n",
      "step 24500, loss 3.5258, acc 0.6628\n",
      "step 25000, loss 4.0251, acc 0.6722\n",
      "step 25500, loss 5.0369, acc 0.6730\n",
      "step 26000, loss 4.0295, acc 0.6973\n",
      "step 26500, loss 3.5258, acc 0.7260\n",
      "step 27000, loss 4.5332, acc 0.7237\n",
      "step 27500, loss 3.5258, acc 0.7592\n",
      "step 28000, loss 3.0221, acc 0.7789\n",
      "step 28500, loss 2.0148, acc 0.7799\n",
      "step 29000, loss 3.5258, acc 0.7954\n",
      "step 29500, loss 3.0221, acc 0.7799\n",
      "step 30000, loss 3.5258, acc 0.7948\n",
      "step 30500, loss 3.0221, acc 0.7965\n",
      "step 31000, loss 3.0221, acc 0.7933\n",
      "step 31500, loss 3.0063, acc 0.8021\n",
      "step 32000, loss 2.5188, acc 0.8075\n",
      "step 32500, loss 3.5258, acc 0.8034\n",
      "step 33000, loss 5.0370, acc 0.8174\n",
      "step 33500, loss 2.5185, acc 0.8126\n",
      "step 34000, loss 2.0148, acc 0.8143\n",
      "step 34500, loss 2.5185, acc 0.8084\n",
      "step 35000, loss 4.0295, acc 0.8049\n",
      "step 35500, loss 2.5185, acc 0.8196\n",
      "step 36000, loss 3.0221, acc 0.8195\n",
      "step 36500, loss 2.8847, acc 0.8191\n",
      "step 37000, loss 3.5258, acc 0.8205\n",
      "step 37500, loss 2.5185, acc 0.8140\n",
      "step 38000, loss 2.5185, acc 0.8208\n",
      "step 38500, loss 1.5111, acc 0.8230\n",
      "step 39000, loss 4.0295, acc 0.8265\n",
      "step 39500, loss 2.0148, acc 0.8257\n",
      "step 40000, loss 4.0295, acc 0.8155\n",
      "step 40500, loss 1.5111, acc 0.8299\n",
      "step 41000, loss 1.4751, acc 0.8246\n",
      "step 41500, loss 3.0221, acc 0.8285\n",
      "step 42000, loss 3.0221, acc 0.8285\n",
      "step 42500, loss 3.5258, acc 0.8273\n",
      "step 43000, loss 1.5111, acc 0.8226\n",
      "step 43500, loss 2.5513, acc 0.8178\n",
      "step 44000, loss 2.0148, acc 0.8299\n",
      "step 44500, loss 3.5089, acc 0.8257\n",
      "step 45000, loss 3.5258, acc 0.8323\n",
      "step 45500, loss 4.0295, acc 0.8314\n",
      "step 46000, loss 2.5185, acc 0.8226\n",
      "step 46500, loss 3.4563, acc 0.8296\n",
      "step 47000, loss 4.0295, acc 0.8288\n",
      "step 47500, loss 1.0074, acc 0.8326\n",
      "step 48000, loss 2.0148, acc 0.8330\n",
      "step 48500, loss 3.5258, acc 0.8337\n",
      "step 49000, loss 3.0221, acc 0.8361\n",
      "step 49500, loss 1.5111, acc 0.8312\n"
     ]
    }
   ],
   "source": [
    "with tf.Graph().as_default() as g:\n",
    "    inputs = tf.placeholder(shape=[None, 784], dtype=tf.float32)\n",
    "    labels = tf.placeholder(shape=[None, 10], dtype=tf.float32)\n",
    "    \n",
    "    h1_w = tf.Variable(tf.random_normal([784, 64]), name='h1_w')\n",
    "    h1_b = tf.Variable(tf.zeros([64, ]), name='h1_b')\n",
    "    h1_o = tf.nn.relu(tf.matmul(inputs, h1_w)+h1_b)\n",
    "    \n",
    "    h2_w = tf.Variable(tf.random_normal([64, 128]), name='h2_w')\n",
    "    h2_b = tf.Variable(tf.zeros([128, ]), name='h2_b')\n",
    "    h2_o = tf.nn.relu(tf.matmul(h1_o, h2_w)+h2_b)\n",
    "    \n",
    "    o_w = tf.Variable(tf.random_normal([128, 10]), name='o_w')\n",
    "    o_b = tf.Variable(tf.zeros([10, ]), name='o_w')\n",
    "    \n",
    "    logits = tf.matmul(h2_o, o_w) + o_b\n",
    "    output = tf.nn.softmax(logits)\n",
    "    \n",
    "    loss = tf.reduce_mean(-1 * tf.reduce_sum(\n",
    "            labels * tf.log(output + 1e-7), axis=1))\n",
    "    \n",
    "    acc = tf.reduce_mean(\n",
    "        tf.cast(tf.equal(tf.argmax(labels, axis=1), tf.argmax(output, axis=1)), \n",
    "                dtype=tf.float32))\n",
    "    \n",
    "    with tf.Session(graph=g) as sess:\n",
    "        optim = tf.train.GradientDescentOptimizer(learning_rate=0.01)\n",
    "        \n",
    "        train_op = optim.minimize(loss)\n",
    "        sess.run(tf.global_variables_initializer())\n",
    "        \n",
    "        for step in range(50000):\n",
    "            batch_images, batch_labels = mnist.train.next_batch(32)\n",
    "            res_loss, _ = sess.run([loss, train_op], feed_dict={\n",
    "                        inputs: batch_images,\n",
    "                        labels: batch_labels\n",
    "            })\n",
    "            \n",
    "            if step % 500 ==0:\n",
    "                accs = []\n",
    "                for test_step in range(10000 // 32):\n",
    "                    batch_images, batch_labels = mnist.test.next_batch(32)\n",
    "                    \n",
    "                    res_acc = sess.run(acc, feed_dict={\n",
    "                        inputs: batch_images,\n",
    "                        labels: batch_labels\n",
    "                    })\n",
    "                    \n",
    "                    accs.append(res_acc)\n",
    "                accs = np.mean(accs)\n",
    "                print('step %5d, loss %2.4f, acc %.4f' % (step, res_loss, accs))\n",
    "    "
   ]
  },
  {
   "cell_type": "code",
   "execution_count": null,
   "metadata": {},
   "outputs": [],
   "source": []
  }
 ],
 "metadata": {
  "kernelspec": {
   "display_name": "pydp-notebook",
   "language": "python",
   "name": "pydp-notebook"
  },
  "language_info": {
   "codemirror_mode": {
    "name": "ipython",
    "version": 3
   },
   "file_extension": ".py",
   "mimetype": "text/x-python",
   "name": "python",
   "nbconvert_exporter": "python",
   "pygments_lexer": "ipython3",
   "version": "3.7.2"
  }
 },
 "nbformat": 4,
 "nbformat_minor": 2
}
