{
 "cells": [
  {
   "cell_type": "code",
   "execution_count": 25,
   "metadata": {},
   "outputs": [],
   "source": [
    "import tensorflow as tf\n",
    "import numpy as np"
   ]
  },
  {
   "cell_type": "code",
   "execution_count": 26,
   "metadata": {},
   "outputs": [],
   "source": [
    "def calc_iou(boxs1, boxs2):\n",
    "    '''\n",
    "    input:\n",
    "        boxs[box_num][left_up_x, left_up_y, right_down_x, right_down_y]\n",
    "    output:\n",
    "        iou，intersection over uninon\n",
    "        if can be a new box return the value of iou\n",
    "        else return 0\n",
    "    '''\n",
    "    left_up = tf.maximum(boxs1[:,:2], boxs2[:,:2])\n",
    "    right_down = tf.minimum(boxs1[:,2:], boxs2[:,2:])\n",
    "    \n",
    "    intersection = tf.maximum(tf.zeros(shape=[2,2]) , right_down-left_up)\n",
    "    inter_square = intersection[:,0] * intersection[:,1]\n",
    "    \n",
    "    boxs1_square = (boxs1[:,2]-boxs1[:,0]) * (boxs1[:, 3]- boxs1[:,1])\n",
    "    boxs2_square = (boxs2[:,2]-boxs2[:,0]) * (boxs2[:, 3]- boxs2[:,1])\n",
    "    \n",
    "    iou = inter_square / (boxs1_square + boxs2_square - inter_square)\n",
    "    \n",
    "    return iou\n",
    "    \n",
    "    \n",
    "    "
   ]
  },
  {
   "cell_type": "code",
   "execution_count": 27,
   "metadata": {},
   "outputs": [
    {
     "name": "stdout",
     "output_type": "stream",
     "text": [
      "[0.06060606 0.        ]\n"
     ]
    }
   ],
   "source": [
    "with tf.Session() as sess:\n",
    "    boxs1 = np.array([[10.,20.,60.,60.], [10.,20.,40.,60.]],np.float32)\n",
    "    boxs2 = np.array([[50.,40.,80.,90.], [50.,40.,80.,90.]],np.float32)\n",
    "    iou = calc_iou(boxs1, boxs2)\n",
    "    \n",
    "    print(sess.run(iou))"
   ]
  },
  {
   "cell_type": "code",
   "execution_count": 11,
   "metadata": {},
   "outputs": [
    {
     "data": {
      "text/plain": [
       "array([[60., 60.],\n",
       "       [40., 60.]])"
      ]
     },
     "execution_count": 11,
     "metadata": {},
     "output_type": "execute_result"
    }
   ],
   "source": [
    "boxs1 = np.array([[10.,20.,60.,60.], [10.,20.,40.,60.]], type=np.float32)\n",
    "boxs2 = np.array([[50.,40.,80.,90.], [50.,40.,80.,90.]], type=np.float32)\n",
    "boxs1[:,2:]\n",
    "# np.maximum(boxs1[:,:2], boxs2)"
   ]
  },
  {
   "cell_type": "code",
   "execution_count": 20,
   "metadata": {},
   "outputs": [
    {
     "data": {
      "text/plain": [
       "array([[0., 0.],\n",
       "       [0., 0.]])"
      ]
     },
     "execution_count": 20,
     "metadata": {},
     "output_type": "execute_result"
    }
   ],
   "source": [
    "np.zeros([2,2])"
   ]
  },
  {
   "cell_type": "code",
   "execution_count": null,
   "metadata": {},
   "outputs": [],
   "source": []
  }
 ],
 "metadata": {
  "kernelspec": {
   "display_name": "pydp-notebook",
   "language": "python",
   "name": "pydp-notebook"
  },
  "language_info": {
   "codemirror_mode": {
    "name": "ipython",
    "version": 3
   },
   "file_extension": ".py",
   "mimetype": "text/x-python",
   "name": "python",
   "nbconvert_exporter": "python",
   "pygments_lexer": "ipython3",
   "version": "3.7.2"
  }
 },
 "nbformat": 4,
 "nbformat_minor": 2
}
