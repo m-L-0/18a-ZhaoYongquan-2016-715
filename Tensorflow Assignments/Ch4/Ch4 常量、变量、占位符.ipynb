{
 "cells": [
  {
   "cell_type": "markdown",
   "metadata": {},
   "source": [
    "姓名：赵永权  \n",
    "学号：2016011715  \n",
    "专业：软件工程  \n",
    "学院：软件学院  \n",
    "\n",
    "作业\n",
    "\n",
    "利用所学知识，完成以下任务：\n",
    "\n",
    "1. 构建二元线性回归模型，其中模型中的参数使用tf.Variable()构建，模型的样本输入使用tf.placeholder代替。写出模型结构。\n",
    "2. 使用tf.placeholder代替上述样本中的标记，写出对于一个样本的代价。\n"
   ]
  },
  {
   "cell_type": "markdown",
   "metadata": {},
   "source": [
    "1. 构建二元线性回归模型，其中模型中的参数使用tf.Variable()构建，模型的样本输入使用tf.placeholder代替。写出模型结构。"
   ]
  },
  {
   "cell_type": "code",
   "execution_count": 1,
   "metadata": {},
   "outputs": [],
   "source": [
    "#导入必要的模块\n",
    "import tensorflow as tf\n",
    "import numpy as np"
   ]
  },
  {
   "cell_type": "code",
   "execution_count": null,
   "metadata": {},
   "outputs": [],
   "source": [
    "#训练数据的导入\n",
    "X = tf.placeholder(tf.float32)"
   ]
  },
  {
   "cell_type": "code",
   "execution_count": null,
   "metadata": {},
   "outputs": [],
   "source": [
    "#设置随机权重weight，设置bias为0\n",
    "W=tf.Variable(tf.random_uniform([1]))\n",
    "b=tf.Variable(tf.zeros([1]))"
   ]
  },
  {
   "cell_type": "code",
   "execution_count": null,
   "metadata": {},
   "outputs": [],
   "source": [
    "#构造线性模型\n",
    "pred=tf.add(tf.multiply(X,W),b)"
   ]
  },
  {
   "cell_type": "markdown",
   "metadata": {},
   "source": [
    "2. 使用tf.placeholder代替上述样本中的标记，写出对于一个样本的代价。"
   ]
  },
  {
   "cell_type": "code",
   "execution_count": null,
   "metadata": {},
   "outputs": [],
   "source": [
    "#样本的标记\n",
    "y = tf.placeholder(tf.float32)"
   ]
  },
  {
   "cell_type": "code",
   "execution_count": null,
   "metadata": {},
   "outputs": [],
   "source": [
    "#样本的代价均方误差\n",
    "cost=tf.reduce_sum(tf.pow(pred-y,2))/(2*n_samples)"
   ]
  },
  {
   "cell_type": "code",
   "execution_count": null,
   "metadata": {},
   "outputs": [],
   "source": []
  }
 ],
 "metadata": {
  "kernelspec": {
   "display_name": "Python [conda env:pytf]",
   "language": "python",
   "name": "conda-env-pytf-py"
  },
  "language_info": {
   "codemirror_mode": {
    "name": "ipython",
    "version": 3
   },
   "file_extension": ".py",
   "mimetype": "text/x-python",
   "name": "python",
   "nbconvert_exporter": "python",
   "pygments_lexer": "ipython3",
   "version": "3.6.1"
  }
 },
 "nbformat": 4,
 "nbformat_minor": 2
}
