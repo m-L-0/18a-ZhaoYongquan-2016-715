{
 "cells": [
  {
   "cell_type": "markdown",
   "metadata": {},
   "source": [
    "姓名：赵永权  \n",
    "学号：2016011715  \n",
    "专业：软件工程  \n",
    "学院：软件学院  \n",
    "作业描述：  \n",
    "&nbsp;1. 在一个notebook文件中构建一张图，实现两个数的加法操作，并在两个不同的会话中执行图。  \n",
    "&nbsp;2. 查找资料学习TensorFlow中执行常量基本运算API的基本用法，如tf.add、tf.subtract、tf.multiply、tf.divide、tf.mod、tf.pow、tf.square、&nbsp;tf.sqrt等的用法，并在notebook中演示其基本用法。\n"
   ]
  },
  {
   "cell_type": "code",
   "execution_count": 1,
   "metadata": {},
   "outputs": [],
   "source": [
    "import tensorflow as tf\n",
    "import numpy as np"
   ]
  },
  {
   "cell_type": "markdown",
   "metadata": {},
   "source": [
    "1.构建一张图，实现两个数的加法操作，并在两个不同的会话中执行图"
   ]
  },
  {
   "cell_type": "code",
   "execution_count": 13,
   "metadata": {},
   "outputs": [
    {
     "name": "stdout",
     "output_type": "stream",
     "text": [
      "11\n",
      "11\n"
     ]
    }
   ],
   "source": [
    "#构建一张图\n",
    "g=tf.Graph()\n",
    "#将此图作为默认图\n",
    "with g.as_default():\n",
    "    a=tf.constant(3)\n",
    "    b=tf.constant(8)\n",
    "    res=tf.add(a,b)\n",
    "#注意，当使用了多张图时，在session中需要制定当前session所运行的图\n",
    "with tf.Session(graph=g) as sess1:\n",
    "    print(sess1.run(res))\n",
    "#创建另一个session同样执行本图\n",
    "sess2=tf.Session(graph=g)\n",
    "res=sess2.run(res)\n",
    "print(res)\n",
    "sess2.close() \n",
    "#不用时及时释放session占用的资源，\n",
    "#对比：上下文管理器中的session会自动管理资源不用主动释放"
   ]
  },
  {
   "cell_type": "markdown",
   "metadata": {},
   "source": [
    "2.查找资料学习TensorFlow中执行常量基本运算API的基本用法，如tf.add、tf.subtract、tf.multiply、tf.divide、tf.mod、tf.pow、tf.square、 tf.sqrt等的用法，并在notebook中演示其基本用法。\n",
    "<p><b>tf.add(x, y, name=None)     <b>&nbsp;加法(支持 broadcasting)</p>\n",
    "<p>tf.subtract(x, y, name=None)  <b>&nbsp;减法</p>\n",
    "<p>tf.multiply(x, y, name=None)   <b>&nbsp;  乘法</p>\n",
    "<p>tf.divide(x, y, name=None)    <b>&nbsp;浮点除法, 返回浮点数(python3 除法)</p>\n",
    "<p>tf.mod(x, y, name=None)      <b> &nbsp;取余</p>\n",
    "<p>tf.pow(x, y, name=None)      <b>&nbsp;幂次方</p>\n",
    "<p>tf.square(x, name=None)       <b>&nbsp;平方</p>\n",
    "<p>tf.sqrt(x, name=None)         <b>&nbsp;开根号，必须传入浮点数或复数</p>"
   ]
  },
  {
   "cell_type": "code",
   "execution_count": 26,
   "metadata": {},
   "outputs": [
    {
     "name": "stdout",
     "output_type": "stream",
     "text": [
      "a=3.00,b=4.00\n",
      "a+b=7.00\n",
      "a-b=-1.00\n",
      "a*b=12.00\n",
      "a/b=0.75\n",
      "a%b=3.00\n",
      "a^b=81.00\n",
      "a^2=9.00\n",
      "b^0.5=2.00\n"
     ]
    }
   ],
   "source": [
    "#在一个默认图中演示上述功能\n",
    "with tf.Graph().as_default():\n",
    "    a=tf.constant(3.)\n",
    "    b=tf.constant(4.)\n",
    "    add=tf.add(a,b)\n",
    "    sub=tf.subtract(a,b)\n",
    "    mul=tf.multiply(a,b)\n",
    "    div=tf.divide(a,b)\n",
    "    mod=tf.mod(a,b)\n",
    "    power=tf.pow(a,b)\n",
    "    square=tf.square(a)\n",
    "    sqrt=tf.sqrt(b)\n",
    "    with tf.Session() as sess:\n",
    "        print(\"a=%.2f,b=%.2f\" % (sess.run(a),sess.run(b)))\n",
    "        print(\"a+b=%.2f\"% sess.run(add))\n",
    "        print(\"a-b=%.2f\"% sess.run(sub))\n",
    "        print(\"a*b=%.2f\"% sess.run(mul))\n",
    "        print(\"a/b=%.2f\"% sess.run(div))\n",
    "        print(\"a%%b=%.2f\"% sess.run(mod))\n",
    "        print(\"a^b=%.2f\"% sess.run(power))\n",
    "        print(\"a^2=%.2f\"% sess.run(square))\n",
    "        print(\"b^0.5=%.2f\"% sess.run(sqrt))"
   ]
  },
  {
   "cell_type": "code",
   "execution_count": null,
   "metadata": {},
   "outputs": [],
   "source": []
  }
 ],
 "metadata": {
  "kernelspec": {
   "display_name": "Python [conda env:pytf]",
   "language": "python",
   "name": "conda-env-pytf-py"
  },
  "language_info": {
   "codemirror_mode": {
    "name": "ipython",
    "version": 3
   },
   "file_extension": ".py",
   "mimetype": "text/x-python",
   "name": "python",
   "nbconvert_exporter": "python",
   "pygments_lexer": "ipython3",
   "version": "3.6.1"
  }
 },
 "nbformat": 4,
 "nbformat_minor": 2
}
