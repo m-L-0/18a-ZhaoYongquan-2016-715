{
 "cells": [
  {
   "cell_type": "markdown",
   "metadata": {},
   "source": [
    "姓名：赵永权<br>\n",
    "学号：2016011715<br>\n",
    "学院：软件学院<br>\n",
    "专业：软件工程<br>\n",
    "\n",
    "作业\n",
    "\n",
    "1. 设计一个函数，要求输入两个shape、dtype一样的张量，输出一个同样shape、dtype的张量，并且输出的张量中的元素的每一个值都是输入的两个张量中对应元素最大的。即模拟tf.maximum的功能，但不能直接使用此函数。\n",
    "2. 了解tf.minimum、tf.maximum的用法。\n",
    "3. 了解TensorArray的基本用法，并尝试配合tf.while_loop配合使用。\n",
    "\n",
    "\n"
   ]
  },
  {
   "cell_type": "code",
   "execution_count": 1,
   "metadata": {},
   "outputs": [],
   "source": [
    "# 1. 设计一个函数，要求输入两个shape、dtype一样的张量，输出一个同样shape、dtype的张量，\n",
    "# 并且输出的张量中的元素的每一个值都是输入的两个张量中对应元素最大的。即模拟tf.maximum的功能，但不能直接使用此函数。\n",
    "import tensorflow as tf\n",
    "import numpy as np"
   ]
  },
  {
   "cell_type": "code",
   "execution_count": 7,
   "metadata": {},
   "outputs": [
    {
     "data": {
      "text/plain": [
       "array([4, 3, 6])"
      ]
     },
     "execution_count": 7,
     "metadata": {},
     "output_type": "execute_result"
    }
   ],
   "source": [
    "def max_elements(x,y):\n",
    "    return tf.where(tf.greater(x,y),x,y)\n",
    "a=tf.constant([1,3,5])\n",
    "b=tf.constant([4,2,6])\n",
    "res=max_elements(a,b)\n",
    "sess=tf.InteractiveSession()\n",
    "res.eval()"
   ]
  },
  {
   "cell_type": "code",
   "execution_count": 8,
   "metadata": {},
   "outputs": [
    {
     "data": {
      "text/plain": [
       "array([4, 3, 6])"
      ]
     },
     "execution_count": 8,
     "metadata": {},
     "output_type": "execute_result"
    }
   ],
   "source": [
    "c=tf.maximum(a,b)\n",
    "sess=tf.InteractiveSession()\n",
    "c.eval()"
   ]
  },
  {
   "cell_type": "markdown",
   "metadata": {},
   "source": [
    "2.了解tf.minimum、tf.maximum的用法。\n",
    "tf.maximum(\n",
    "    x,\n",
    "    y,\n",
    "    name=None\n",
    ")\n",
    "返回 x 和 y 的最大值（即表达式：x > y ? x : y）。\n",
    "\n",
    "注意：Maximum 支持广播。\n",
    "\n",
    "参数：\n",
    "\n",
    "x：张量。必须是下列类型之一：half，float32，float64，int32，int64。\n",
    "y：张量。必须与 x 具有相同的类型。\n",
    "name：操作的名称（可选）。\n",
    "返回值：\n",
    "\n",
    "该函数将返回一个张量并且与 x 具有相同的类型。\n",
    "\n",
    "\n",
    "tf.minimum(\n",
    "    x,\n",
    "    y,\n",
    "    name=None\n",
    ")\n",
    "\n",
    "返回 x 和 y 的最小值（即表达式：x < y ? x : y）。 \n",
    "注意：Minimum 支持广播。\n",
    "\n",
    "参数：\n",
    "\n",
    "x：张量。必须是下列类型之一：half，float32，float64，int32，int64。\n",
    "y：张量。必须与 x 具有相同的类型。\n",
    "name：操作的名称（可选）。\n",
    "返回值：\n",
    "\n",
    "该函数将返回一个张量并且与 x 具有相同的类型。 "
   ]
  },
  {
   "cell_type": "markdown",
   "metadata": {},
   "source": [
    "3.了解TensorArray的基本用法，并尝试配合tf.while_loop配合使用。\n",
    "TensorArray可以看做是具有动态size功能的Tensor数组。通常都是跟while_loop或map_fn结合使用\n"
   ]
  },
  {
   "cell_type": "code",
   "execution_count": 2,
   "metadata": {},
   "outputs": [
    {
     "name": "stdout",
     "output_type": "stream",
     "text": [
      "3\n",
      "[[ 2.4000001  3.5      ]\n",
      " [ 2.4000001  3.5      ]\n",
      " [ 2.4000001  3.5      ]]\n"
     ]
    }
   ],
   "source": [
    "#将[2.4, 3.5]写进TensorArray n次\n",
    "i = tf.constant(0)\n",
    "arr = tf.TensorArray(dtype=tf.float32, size=1, dynamic_size=True)\n",
    "\n",
    "def cond(i, arr):\n",
    "    return tf.less(i, 3)\n",
    "\n",
    "def body(i, arr):\n",
    "    arr = arr.write(i, [2.4, 3.5])\n",
    "    return i + 1, arr\n",
    "\n",
    "result = tf.while_loop(cond, body, loop_vars=[i, arr])\n",
    "\n",
    "last_i, last_arr = result\n",
    "arr_out = last_arr.stack()\n",
    "\n",
    "with tf.Session() as sess:\n",
    "    print(sess.run(last_i))\n",
    "    print(sess.run(arr_out))"
   ]
  },
  {
   "cell_type": "markdown",
   "metadata": {},
   "source": [
    "重要函数：\n",
    "\n",
    "ta.stack(name=None) 将TensorArray中元素叠起来当做一个Tensor输出\n",
    "\n",
    "ta.unstack(value, name=None) 可以看做是stack的反操作，输入Tensor，输出一个新的TensorArray对象\n",
    "\n",
    "ta.write(index, value, name=None) 指定index位置写入Tensor\n",
    "\n",
    "ta.read(index, name=None) 读取指定index位置的Tensor\n",
    "\n",
    "以上所有函数的参数name=None均可用来指定当前操作的名称。"
   ]
  }
 ],
 "metadata": {
  "kernelspec": {
   "display_name": "Python [conda env:pytf]",
   "language": "python",
   "name": "conda-env-pytf-py"
  },
  "language_info": {
   "codemirror_mode": {
    "name": "ipython",
    "version": 3
   },
   "file_extension": ".py",
   "mimetype": "text/x-python",
   "name": "python",
   "nbconvert_exporter": "python",
   "pygments_lexer": "ipython3",
   "version": "3.6.1"
  }
 },
 "nbformat": 4,
 "nbformat_minor": 2
}
