{
 "cells": [
  {
   "cell_type": "markdown",
   "metadata": {},
   "source": [
    "姓名：赵永权  \n",
    "学号：2016011715  \n",
    "专业：软件工程  \n",
    "学院：软件学院  "
   ]
  },
  {
   "cell_type": "markdown",
   "metadata": {},
   "source": [
    "作业\n",
    "\n",
    "有一4阶张量img其shape=[10, 28, 28, 3])，代表10张28*28像素的3通道RGB图像，问：\n",
    "\n",
    "1. 如何利用索引取出第2张图片？（注意：索引均从0开始，第二张则索引为1，下同）\n",
    "    \n",
    "    img[1,...]或img[1,:,:,:]或img[1]或img[1,]\n",
    "    \n",
    "2. 如何利用切片取出第2张图片？\n",
    "\n",
    "    tf.slice(img,[1,0,0,0],[1,28,28,3])\n",
    "    \n",
    "3. 使用切片与使用索引取出的一张图片有何不同？\n",
    "\n",
    "    索引会改变维度，而切片不会\n",
    "    \n",
    "4. 如何取出其中的第1、3、5、7张图片？\n",
    "\n",
    "    tf.strided_slice(img,[0],[7],[2])\n",
    "    \n",
    "5. 如何取出第6-8张（包括6不包括8）图片中中心区域（14*14）的部分？\n",
    "\n",
    "    tf.strided_slice(img,[5,7,7],[7,21,21],[1,1,1])\n",
    "    \n",
    "6. 如何将图片根据通道拆分成三份单通道图片？\n",
    "\n",
    "    split0, split1, split2 = tf.split(img, [1, 1 , 1], 3)\n",
    "    \n",
    "7. 写出tf.shape(img)返回的张量的阶数以及shape属性的值。\n",
    "\n",
    "\n",
    "    张量的阶数：（tf.Tensor 'Shape:0' shape=(4,) dtype=int32）\n",
    "    \n",
    "    属性的值：TensorShape([Dimension(10), Dimension(28), Dimension(28), Dimension(3)])"
   ]
  },
  {
   "cell_type": "code",
   "execution_count": 2,
   "metadata": {},
   "outputs": [],
   "source": [
    "#导入必要的模块\n",
    "import numpy as np\n",
    "import tensorflow as tf"
   ]
  },
  {
   "cell_type": "code",
   "execution_count": 3,
   "metadata": {},
   "outputs": [],
   "source": [
    "#创建一个交互式的会话\n",
    "sess=tf.InteractiveSession()"
   ]
  },
  {
   "cell_type": "code",
   "execution_count": 4,
   "metadata": {},
   "outputs": [],
   "source": [
    "#利用numpy模拟生成img\n",
    "img=np.array(np.arange(10*28*28*3).reshape(10,28,28,3))\n",
    "img=tf.constant(img)"
   ]
  },
  {
   "cell_type": "code",
   "execution_count": 5,
   "metadata": {},
   "outputs": [
    {
     "name": "stdout",
     "output_type": "stream",
     "text": [
      "Tensor(\"strided_slice:0\", shape=(28, 28, 3), dtype=int32)\n"
     ]
    },
    {
     "data": {
      "text/plain": [
       "array([[[2352, 2353, 2354],\n",
       "        [2355, 2356, 2357],\n",
       "        [2358, 2359, 2360],\n",
       "        ..., \n",
       "        [2427, 2428, 2429],\n",
       "        [2430, 2431, 2432],\n",
       "        [2433, 2434, 2435]],\n",
       "\n",
       "       [[2436, 2437, 2438],\n",
       "        [2439, 2440, 2441],\n",
       "        [2442, 2443, 2444],\n",
       "        ..., \n",
       "        [2511, 2512, 2513],\n",
       "        [2514, 2515, 2516],\n",
       "        [2517, 2518, 2519]],\n",
       "\n",
       "       [[2520, 2521, 2522],\n",
       "        [2523, 2524, 2525],\n",
       "        [2526, 2527, 2528],\n",
       "        ..., \n",
       "        [2595, 2596, 2597],\n",
       "        [2598, 2599, 2600],\n",
       "        [2601, 2602, 2603]],\n",
       "\n",
       "       ..., \n",
       "       [[4452, 4453, 4454],\n",
       "        [4455, 4456, 4457],\n",
       "        [4458, 4459, 4460],\n",
       "        ..., \n",
       "        [4527, 4528, 4529],\n",
       "        [4530, 4531, 4532],\n",
       "        [4533, 4534, 4535]],\n",
       "\n",
       "       [[4536, 4537, 4538],\n",
       "        [4539, 4540, 4541],\n",
       "        [4542, 4543, 4544],\n",
       "        ..., \n",
       "        [4611, 4612, 4613],\n",
       "        [4614, 4615, 4616],\n",
       "        [4617, 4618, 4619]],\n",
       "\n",
       "       [[4620, 4621, 4622],\n",
       "        [4623, 4624, 4625],\n",
       "        [4626, 4627, 4628],\n",
       "        ..., \n",
       "        [4695, 4696, 4697],\n",
       "        [4698, 4699, 4700],\n",
       "        [4701, 4702, 4703]]])"
      ]
     },
     "execution_count": 5,
     "metadata": {},
     "output_type": "execute_result"
    }
   ],
   "source": [
    "#用索引的方式取出img中的第二张图片\n",
    "print(img[1])\n",
    "sess.run(img[1])"
   ]
  },
  {
   "cell_type": "code",
   "execution_count": 6,
   "metadata": {},
   "outputs": [
    {
     "data": {
      "text/plain": [
       "<tf.Tensor 'Slice:0' shape=(1, 28, 28, 3) dtype=int32>"
      ]
     },
     "execution_count": 6,
     "metadata": {},
     "output_type": "execute_result"
    }
   ],
   "source": [
    "#用切片的方式得到img中的第二张图\n",
    "tf.slice(img,[1,0,0,0],[1,28,28,3])"
   ]
  },
  {
   "cell_type": "code",
   "execution_count": 7,
   "metadata": {},
   "outputs": [
    {
     "data": {
      "text/plain": [
       "<tf.Tensor 'StridedSlice:0' shape=(4, 28, 28, 3) dtype=int32>"
      ]
     },
     "execution_count": 7,
     "metadata": {},
     "output_type": "execute_result"
    }
   ],
   "source": [
    "#通过切片同时取出第1,3，5，7张图片\n",
    "tf.strided_slice(img,[0],[7],[2])"
   ]
  },
  {
   "cell_type": "code",
   "execution_count": 8,
   "metadata": {},
   "outputs": [
    {
     "data": {
      "text/plain": [
       "<tf.Tensor 'StridedSlice_1:0' shape=(2, 14, 14, 3) dtype=int32>"
      ]
     },
     "execution_count": 8,
     "metadata": {},
     "output_type": "execute_result"
    }
   ],
   "source": [
    "#取出第6-8张（包括6不包括8）图片中中心区域（14*14）的部分\n",
    "tf.strided_slice(img,[5,7,7],[7,21,21],[1,1,1])"
   ]
  },
  {
   "cell_type": "code",
   "execution_count": 9,
   "metadata": {},
   "outputs": [
    {
     "data": {
      "text/plain": [
       "<tf.Tensor 'split:0' shape=(10, 28, 28, 1) dtype=int32>"
      ]
     },
     "execution_count": 9,
     "metadata": {},
     "output_type": "execute_result"
    }
   ],
   "source": [
    "# 将图片根据通道拆分成三份单通道图片\n",
    "split0, split1, split2 = tf.split(img, [1, 1 , 1], 3)\n",
    "split0"
   ]
  },
  {
   "cell_type": "code",
   "execution_count": 10,
   "metadata": {},
   "outputs": [
    {
     "data": {
      "text/plain": [
       "<tf.Tensor 'Shape:0' shape=(4,) dtype=int32>"
      ]
     },
     "execution_count": 10,
     "metadata": {},
     "output_type": "execute_result"
    }
   ],
   "source": [
    "# 张量的阶数\n",
    "tf.shape(img)"
   ]
  },
  {
   "cell_type": "code",
   "execution_count": 11,
   "metadata": {},
   "outputs": [
    {
     "data": {
      "text/plain": [
       "TensorShape([Dimension(10), Dimension(28), Dimension(28), Dimension(3)])"
      ]
     },
     "execution_count": 11,
     "metadata": {},
     "output_type": "execute_result"
    }
   ],
   "source": [
    "# shape属性的值\n",
    "img.shape"
   ]
  },
  {
   "cell_type": "code",
   "execution_count": null,
   "metadata": {},
   "outputs": [],
   "source": []
  }
 ],
 "metadata": {
  "kernelspec": {
   "display_name": "Python [conda env:pytf]",
   "language": "python",
   "name": "conda-env-pytf-py"
  },
  "language_info": {
   "codemirror_mode": {
    "name": "ipython",
    "version": 3
   },
   "file_extension": ".py",
   "mimetype": "text/x-python",
   "name": "python",
   "nbconvert_exporter": "python",
   "pygments_lexer": "ipython3",
   "version": "3.6.1"
  }
 },
 "nbformat": 4,
 "nbformat_minor": 2
}
