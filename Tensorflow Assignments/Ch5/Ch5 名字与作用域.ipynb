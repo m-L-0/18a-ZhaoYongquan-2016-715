{
 "cells": [
  {
   "cell_type": "markdown",
   "metadata": {},
   "source": [
    "姓名：赵永权<br> \n",
    "学号：2016011715<br> \n",
    "专业：软件工程<br> \n",
    "学院：软件学院<br> \n",
    "\n",
    "作业\n",
    "\n",
    "1. 总结name_scope与variable_scope的作用以及异同点。\n",
    "2. 构建逻辑回归模型（只有模型部分，不包括训练部分），使用get_variable与variable_scope将变量的创建与使用分开。提示：使用tf.nn.sigmoid代替logistic函数。\n",
    "\n"
   ]
  },
  {
   "cell_type": "markdown",
   "metadata": {},
   "source": [
    "1.总结name_scope与variable_scope的作用以及异同点 \n",
    "\n",
    "使用name_scope与variable_scope的优点\n",
    "\n",
    "使用name_scope与variable_scope可以较好的解决图中的节点命名时所出现的问题。比如可以解决功能近似的节点name也极其相似难以区分的问题，而且使用name_scope后如果可视化图可以较为整洁的将全部节点展示出来。name_scope可以通过划分操作范围来组织图结构，并能服务于得可视化。\n",
    "\n",
    "name_scope的作用\n",
    "\n",
    "name_scope可以为其作用域中的节点的name添加一个或多个前缀，并使用这些前缀作为划分内部与外部op范围的标记。同时在TensorBoard可视化时可以作为一个整体出现（也可以展开）。并且name_scope可以嵌套使用，代表不同层级的功能区域的划分。\n",
    "\n",
    "name_scope的创建\n",
    "\n",
    "name_scope使用tf.name_scope()创建，返回一个上下文管理器。name_scope的参数name可以是字母、数字、下划线，不能以下划线开头。类似于Op的name的命名方式。\n",
    "\n",
    "name_scope使用的注意事项\n",
    "\n",
    "使用name_scope可以给operation的name加前缀，但不包括tf.get_variable()创建的变量。\n",
    "\n",
    "这是因为tf.get_variable是一种特殊的操作，其只能与variable_scope配合完成相应功能。\n",
    "\n",
    "variable_scope的作用\n",
    "\n",
    "variable_scope主要用于管理变量作用域以及与变量相关的操作，同时variable_scope也可以像name_scope一样用来给不同操作区域划分范围（添加name前缀）。variable_scope功能也要更丰富，最重要的是可以与tf.get_variable()等配合使用完成对变量的重复使用。\n",
    "\n",
    "variable_scope的创建\n",
    "\n",
    "variable_scope使用tf.variable_scope()创建，返回一个上下文管理器。variable_scope包含了name_scope的全部功能，即在variable_scope下也可以给Op与Tensor加上name_scope\n",
    "\n",
    "variable_scope的使用注意事项\n",
    "\n",
    "variable_scope的最佳搭档是tf.get_variable()函数。一般的，我们会在variable_scope中使用tf.get_variable()创建与获取模型的变量。\n",
    "\n",
    "tf.get_variable()还有一个特点是必须提供独一无二的name（在当前变量作用域下)。\n",
    "\n",
    "tf.get_variable()的用法是随着reuse的状态而改变的\n",
    "\n",
    "- 在变量作用域中，如其属性reuse=None时，tf.get_variable不能获得变量；\n",
    "- 在变量作用域中，如其属性reuse=True时，tf.get_variable不能创建变量；\n",
    "- 在变量作用域中，scope.reuse_variables()可以改变下文的reuse属性值为True；\n",
    "- 同名的多个变量作用域所处的上下文中的名字作用域不同。\n"
   ]
  },
  {
   "cell_type": "markdown",
   "metadata": {},
   "source": [
    "2.构建逻辑回归模型（只有模型部分，不包括训练部分），使用get_variable与variable_scope将变量的创建与使用分开。提示：使用tf.nn.sigmoid代替logistic函数。"
   ]
  },
  {
   "cell_type": "code",
   "execution_count": 1,
   "metadata": {},
   "outputs": [],
   "source": [
    "#导入必要模块\n",
    "import tensorflow as tf\n",
    "import numpy as np  "
   ]
  },
  {
   "cell_type": "code",
   "execution_count": null,
   "metadata": {},
   "outputs": [],
   "source": [
    "#使用默认图构建逻辑回归模型\n",
    "with tf.Graph().as_default():\n",
    "    X = tf.placeholder(tf.float32)    #使用占位符表示输入数据和类别标记\n",
    "    y = tf.placeholder(tf.float32)\n",
    "    with tf.variable_scope('scope',reuse=None): #模型参数变量的创建\n",
    "        tf.get_variable('W',shape=[],dtype=tf.float32)\n",
    "        tf.get_variable('b',shape=[],dtype=tf.float32)\n",
    "    with tf.variable_scope('scope',reuse=True) #模型参数变量的使用，以及分类决策函数的构建\n",
    "        W=tf.get_variable('W')\n",
    "        b=tf.get_variable('b')\n",
    "        W=tf.assign(tf.zeros([tf.random_normal([1]), 1]))\n",
    "        b = tf.assign([0])\n",
    "        ldf=tf.add(tf.multiply(X,W),b)\n",
    "        fun = tf.nn.sigmoid(ldf)\n",
    "\n"
   ]
  }
 ],
 "metadata": {
  "kernelspec": {
   "display_name": "Python [conda env:pytf]",
   "language": "python",
   "name": "conda-env-pytf-py"
  },
  "language_info": {
   "codemirror_mode": {
    "name": "ipython",
    "version": 3
   },
   "file_extension": ".py",
   "mimetype": "text/x-python",
   "name": "python",
   "nbconvert_exporter": "python",
   "pygments_lexer": "ipython3",
   "version": "3.6.1"
  }
 },
 "nbformat": 4,
 "nbformat_minor": 2
}
